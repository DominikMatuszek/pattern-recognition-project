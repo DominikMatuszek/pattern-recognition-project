{
 "cells": [
  {
   "cell_type": "code",
   "execution_count": null,
   "metadata": {},
   "outputs": [],
   "source": [
    "import torch\n",
    "import torchvision\n",
    "from torchvision import transforms\n",
    "import timm\n",
    "import torch.nn as nn\n",
    "from tqdm import tqdm\n",
    "import torchvision.models as models\n",
    "import matplotlib.pyplot as plt\n",
    "from vit_grad_rollout import VITAttentionGradRollout"
   ]
  },
  {
   "cell_type": "code",
   "execution_count": null,
   "metadata": {},
   "outputs": [],
   "source": [
    "device = torch.device(\"cuda\" if torch.cuda.is_available() else \"cpu\")"
   ]
  },
  {
   "cell_type": "code",
   "execution_count": null,
   "metadata": {},
   "outputs": [],
   "source": [
    "model_teacher = timm.create_model('deit_tiny_patch16_224', pretrained=True)\n",
    "for param in model_teacher.parameters():\n",
    "    param.requires_grad = True\n",
    "\n",
    "\n",
    "for name, module in model_teacher.named_modules():\n",
    "    print(name)\n",
    "# for block in model_teacher.blocks:\n",
    "#     block.attn.fused_attn = False"
   ]
  },
  {
   "cell_type": "code",
   "execution_count": null,
   "metadata": {},
   "outputs": [],
   "source": [
    "model_teacher.to(device)\n",
    "model_teacher.eval()"
   ]
  },
  {
   "cell_type": "code",
   "execution_count": null,
   "metadata": {},
   "outputs": [],
   "source": [
    "# model_student = torch.hub.load('pytorch/vision:v0.10.0', 'densenet121', pretrained=True)\n",
    "model_student = models.squeezenet1_1(pretrained=True)\n",
    "# num_ftrs = model_student.classifier.in_features\n",
    "# model_student.classifier = nn.Linear(num_ftrs, 14 * 14)\n",
    "\n",
    "for param in model_student.parameters():\n",
    "    param.requires_grad = True"
   ]
  },
  {
   "cell_type": "code",
   "execution_count": null,
   "metadata": {},
   "outputs": [],
   "source": [
    "# additional_layers = nn.Sequential(\n",
    "#     nn.ReLU(),\n",
    "#     nn.Linear(400, 300),\n",
    "#     nn.ReLU(),\n",
    "#     nn.Linear(300, 196),\n",
    "#     nn.Sigmoid()\n",
    "# )"
   ]
  },
  {
   "cell_type": "code",
   "execution_count": null,
   "metadata": {},
   "outputs": [],
   "source": [
    "# model_student = nn.Sequential(\n",
    "#     model_student.features,\n",
    "#     nn.ReLU(),\n",
    "#     nn.AdaptiveAvgPool2d((1, 1)),\n",
    "#     nn.Flatten(),\n",
    "#     model_student.classifier,\n",
    "#     additional_layers\n",
    "# )\n",
    "\n",
    "model_student.classifier = nn.Sequential(\n",
    "    nn.Dropout(p=0.5),\n",
    "    nn.Conv2d(512, 14 * 14, kernel_size=(1,1)),\n",
    "    nn.ReLU(),\n",
    "    nn.AdaptiveAvgPool2d((1, 1))\n",
    ")\n",
    "\n",
    "for param in model_student.parameters():\n",
    "    param.requires_grad = True"
   ]
  },
  {
   "cell_type": "code",
   "execution_count": null,
   "metadata": {},
   "outputs": [],
   "source": [
    "model_student = model_student.to(device)"
   ]
  },
  {
   "cell_type": "code",
   "execution_count": null,
   "metadata": {},
   "outputs": [],
   "source": [
    "class TeacherStudentModel(nn.Module):\n",
    "    def __init__(self, teacher, student):\n",
    "        super(TeacherStudentModel, self).__init__()\n",
    "        self.student = student\n",
    "        self.teacher = teacher\n",
    "        self.attention_rollout = VITAttentionGradRollout(teacher, discard_ratio=0.95)\n",
    "        \n",
    "    def forward(self, x, labels):\n",
    "        x.requires_grad = True\n",
    "\n",
    "        input_student = transforms.functional.resize(x, (70,70), antialias=True)\n",
    "        input_student = transforms.functional.resize(input_student, (224,224), antialias=True)\n",
    "\n",
    "        target = self.attention_rollout(x, labels)\n",
    "        output = self.student(input_student)\n",
    "\n",
    "        return output, target"
   ]
  },
  {
   "cell_type": "code",
   "execution_count": null,
   "metadata": {},
   "outputs": [],
   "source": [
    "model = TeacherStudentModel(model_teacher, model_student)\n",
    "model = model.to(device)"
   ]
  },
  {
   "cell_type": "code",
   "execution_count": null,
   "metadata": {},
   "outputs": [],
   "source": [
    "transform = transforms.Compose([\n",
    "    transforms.RandomResizedCrop(224),\n",
    "    transforms.RandomHorizontalFlip(),\n",
    "    transforms.ColorJitter(brightness=0.2, contrast=0.2, saturation=0.2, hue=0.1),\n",
    "    transforms.ToTensor(),\n",
    "    transforms.Normalize(mean=[0.485, 0.456, 0.406], std=[0.229, 0.224, 0.225])\n",
    "])"
   ]
  },
  {
   "cell_type": "code",
   "execution_count": null,
   "metadata": {},
   "outputs": [],
   "source": [
    "# import torchvision.transforms as transforms\n",
    "# from torchvision.datasets import ImageFolder\n",
    "# from torch.utils.data import DataLoader\n",
    "\n",
    "# data_folder = \"./tiny-224/tiny-224/\"\n",
    "\n",
    "# imagenet_data_train = ImageFolder(os.path.join(data_folder, 'train'), transform=transform)\n",
    "# imagenet_data_val = ImageFolder(os.path.join(data_folder, 'val'), transform=transform)\n",
    "# imagenet_data_test = ImageFolder(os.path.join(data_folder, 'test'), transform=transform)\n",
    "\n",
    "# train_dataloader = DataLoader(imagenet_data_train, batch_size=32, shuffle=True)\n",
    "# val_dataloader = DataLoader(imagenet_data_val, batch_size=32, shuffle=True)\n",
    "# test_dataloader = DataLoader(imagenet_data_test, batch_size=32, shuffle=False)\n"
   ]
  },
  {
   "cell_type": "code",
   "execution_count": null,
   "metadata": {},
   "outputs": [],
   "source": [
    "import torchvision.transforms as transforms\n",
    "from torchvision.datasets import CIFAR100\n",
    "from torch.utils.data import DataLoader\n",
    "\n",
    "transform = transforms.Compose([\n",
    "    transforms.Resize((224, 224)),  \n",
    "    transforms.RandomHorizontalFlip(),\n",
    "    transforms.ToTensor(),\n",
    "    transforms.Normalize(mean=[0.5071, 0.4867, 0.4408], std=[0.2675, 0.2565, 0.2761])\n",
    "])\n",
    "\n",
    "cifar100_train = CIFAR100(root='./data', train=True, download=True, transform=transform)\n",
    "cifar100_test = CIFAR100(root='./data', train=False, download=True, transform=transform)\n",
    "\n",
    "train_dataloader = DataLoader(cifar100_train, batch_size=32, shuffle=True)\n",
    "test_dataloader = DataLoader(cifar100_test, batch_size=32, shuffle=False)\n"
   ]
  },
  {
   "cell_type": "code",
   "execution_count": null,
   "metadata": {},
   "outputs": [],
   "source": [
    "from torch.utils.data import Subset\n",
    "import numpy as np\n",
    "\n",
    "subset_size = int(0.5 * len(cifar100_train))\n",
    "subset_indices = np.random.choice(len(cifar100_train), subset_size, replace=False)\n",
    "\n",
    "cifar100_train = Subset(cifar100_train, subset_indices)\n",
    "train_dataloader = DataLoader(cifar100_train, batch_size=16, shuffle=True)\n"
   ]
  },
  {
   "cell_type": "code",
   "execution_count": null,
   "metadata": {},
   "outputs": [],
   "source": [
    "optimizer = torch.optim.Adam(model_student.parameters(), lr=0.001)\n",
    "criterion = torch.nn.MSELoss().to(device)\n",
    "\n",
    "losses = []\n",
    "steps = []"
   ]
  },
  {
   "cell_type": "code",
   "execution_count": null,
   "metadata": {},
   "outputs": [],
   "source": [
    "torch.cuda.empty_cache()\n",
    "\n",
    "for epoch in range(10):\n",
    "    print(\"EPOCH: \", epoch+1)\n",
    "    for i, (images, labels) in tqdm(enumerate(train_dataloader), total=len(train_dataloader)):\n",
    "        images, labels = images.to(device), labels.to(device)\n",
    "        optimizer.zero_grad()\n",
    "        output, target = model(images, labels)\n",
    "        output = output.reshape(-1, 14,14)\n",
    "\n",
    "        print(\"Output shape:\", output.shape)\n",
    "        print(\"Target shape:\", target.shape)\n",
    "\n",
    "\n",
    "        loss = criterion(target, output)\n",
    "        loss.backward()\n",
    "        optimizer.step()\n",
    "\n",
    "        if (i+1) % 500 == 0:\n",
    "            losses.append(loss.item())\n",
    "            steps.append(epoch * len(train_dataloader) + i + 1)\n",
    "\n",
    "        if (i+1) % 10000 == 0:\n",
    "            print(f\"STEP: {i + 1}, loss: {loss.item()}\")\n",
    "            fig, axes = plt.subplots(1, 3, figsize=(10, 5))\n",
    "            axes[0].imshow(images[0].permute(1, 2, 0).cpu().detach())\n",
    "            axes[1].imshow(target[0].cpu().detach())\n",
    "            axes[2].imshow(output[0].cpu().detach())\n",
    "            plt.savefig(f\"train{epoch}_{i}.png\")\n",
    "            plt.close(fig)\n",
    "\n",
    "    plt.plot(steps, losses)\n",
    "    plt.title(f'Loss over time (after {epoch + 1} epoch)')\n",
    "    plt.xlabel('Step')\n",
    "    plt.ylabel('Loss')\n",
    "    plt.savefig(f'Loss{epoch + 1}.png')\n",
    "    plt.close()\n",
    "\n",
    "    torch.save(model.student.state_dict(), 'model_student_state.pth')\n"
   ]
  }
 ],
 "metadata": {
  "kernelspec": {
   "display_name": "Python 3",
   "language": "python",
   "name": "python3"
  },
  "language_info": {
   "name": "python",
   "version": "3.10.13"
  }
 },
 "nbformat": 4,
 "nbformat_minor": 2
}
